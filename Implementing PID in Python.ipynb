{
 "cells": [
  {
   "cell_type": "code",
   "execution_count": 2,
   "metadata": {},
   "outputs": [],
   "source": [
    "import PID\n",
    "import time\n",
    "import matplotlib.pyplot as plt\n",
    "import numpy as np\n",
    "from scipy.interpolate import make_interp_spline\n",
    "%matplotlib inline"
   ]
  },
  {
   "cell_type": "markdown",
   "metadata": {},
   "source": [
    "## define PID weights\n",
    "\n",
    "PID controller minimizes error by adjusting a control variable (eg power supplied) to a new value determined by a weighted sum of present (P), past (I), and future (D) error values."
   ]
  },
  {
   "cell_type": "code",
   "execution_count": 51,
   "metadata": {},
   "outputs": [],
   "source": [
    "P = 1. # weight current errors more\n",
    "I = 5\n",
    "D = 0.0 # ignore future potential errors "
   ]
  },
  {
   "cell_type": "code",
   "execution_count": 52,
   "metadata": {},
   "outputs": [],
   "source": [
    "L = 50 # number of iterations"
   ]
  },
  {
   "cell_type": "code",
   "execution_count": 53,
   "metadata": {},
   "outputs": [],
   "source": [
    "pid = PID.PID(P, I, D)\n",
    "\n",
    "pid.SetPoint=0.0\n",
    "pid.setSampleTime(0.01)\n",
    "\n",
    "END = L\n",
    "feedback = 0\n",
    "\n",
    "feedback_list = []\n",
    "time_list = []\n",
    "setpoint_list = []\n",
    "\n",
    "p_term_list = []\n",
    "i_term_list = []\n",
    "d_term_list = []\n",
    "\n",
    "for i in range(1, END):\n",
    "    pid.update(feedback)\n",
    "    \n",
    "    p_term_list.append(pid.PTerm)\n",
    "    i_term_list.append(pid.ITerm)\n",
    "    d_term_list.append(pid.DTerm)\n",
    "    \n",
    "    output = pid.output\n",
    "    if pid.SetPoint > 0:\n",
    "        feedback += (output - (1/i))\n",
    "    if i>9:\n",
    "        pid.SetPoint = 1\n",
    "    time.sleep(0.02)\n",
    "\n",
    "    feedback_list.append(feedback)\n",
    "    setpoint_list.append(pid.SetPoint)\n",
    "    time_list.append(i)\n",
    "\n",
    "time_sm = np.array(time_list)\n",
    "time_smooth = np.linspace(time_sm.min(), time_sm.max(), 300) \n",
    "feedback_smooth = make_interp_spline(time_list, feedback_list)(time_smooth)\n",
    "\n"
   ]
  },
  {
   "cell_type": "markdown",
   "metadata": {},
   "source": [
    "## how quickly does it converge?\n",
    "\n",
    "green is desired value; blue is actual"
   ]
  },
  {
   "cell_type": "code",
   "execution_count": 54,
   "metadata": {},
   "outputs": [
    {
     "name": "stdout",
     "output_type": "stream",
     "text": [
      "[0.0, 0.0, 0.0, 0.0, 0.0, 0.0, 0.0, 0.0, 0.0, 1, 1, 1, 1, 1, 1, 1, 1, 1, 1, 1, 1, 1, 1, 1, 1, 1, 1, 1, 1, 1, 1, 1, 1, 1, 1, 1, 1, 1, 1, 1, 1, 1, 1, 1, 1, 1, 1, 1, 1]\n"
     ]
    }
   ],
   "source": [
    "print(setpoint_list)"
   ]
  },
  {
   "cell_type": "code",
   "execution_count": 55,
   "metadata": {},
   "outputs": [
    {
     "name": "stdout",
     "output_type": "stream",
     "text": [
      "[0, 0, 0, 0, 0, 0, 0, 0, 0, 0, 1.0095461932095615, 1.0161634745720125, 1.0209495043059862, 1.0243374485716035, 1.0266442866101881, 1.0281276602527574, 1.0289737638366034, 1.0293196683884174, 1.0292951837192268, 1.0289796111853848, 1.028443535604998, 1.0277464619945345, 1.02692693415563, 1.0260287606264447, 1.0250716713972445, 1.024082495070477, 1.0230871797303907, 1.022090784420016, 1.0211025698001508, 1.0201274010725745, 1.0191775989238625, 1.0182552858398783, 1.0173655647895872, 1.0165080824590689, 1.0156852730837274, 1.0148983750562932, 1.0141503207974696, 1.0134371656047703, 1.01275942008446, 1.0121161392061544, 1.011505313085671, 1.0109250655463369, 1.010379940374826, 1.0098652791612799, 1.0093785458238762, 1.0089195913866436, 1.008484564207457, 1.0080738080934175, 1.0076862563973377]\n"
     ]
    }
   ],
   "source": [
    "print(feedback_list)"
   ]
  },
  {
   "cell_type": "code",
   "execution_count": 57,
   "metadata": {},
   "outputs": [
    {
     "data": {
      "text/plain": [
       "(0.5, 1.5)"
      ]
     },
     "execution_count": 57,
     "metadata": {},
     "output_type": "execute_result"
    },
    {
     "data": {
      "image/png": "[encoded data removed]",
      "text/plain": [
       "<Figure size 432x288 with 1 Axes>"
      ]
     },
     "metadata": {
      "needs_background": "light"
     },
     "output_type": "display_data"
    }
   ],
   "source": [
    "# plt.plot(time_smooth, feedback_smooth)\n",
    "plt.plot(time_list[:-1]                                                                                                                                                                                                                         , feedback_list[1:])\n",
    "plt.plot(time_list, setpoint_list)\n",
    "plt.xlim((0, L))\n",
    "plt.ylim((min(feedback_list)-0.5, max(feedback_list)+0.5))\n",
    "plt.xlabel('time (s)')\n",
    "plt.ylabel('PID (PV)')\n",
    "plt.title('TEST PID')\n",
    "\n",
    "plt.ylim((1-0.5, 1+0.5))"
   ]
  },
  {
   "cell_type": "code",
   "execution_count": null,
   "metadata": {},
   "outputs": [],
   "source": []
  }
 ],
 "metadata": {
  "kernelspec": {
   "display_name": "Python 3",
   "language": "python",
   "name": "python3"
  },
  "language_info": {
   "codemirror_mode": {
    "name": "ipython",
    "version": 3
   },
   "file_extension": ".py",
   "mimetype": "text/x-python",
   "name": "python",
   "nbconvert_exporter": "python",
   "pygments_lexer": "ipython3",
   "version": "3.8.3"
  }
 },
 "nbformat": 4,
 "nbformat_minor": 1
}
